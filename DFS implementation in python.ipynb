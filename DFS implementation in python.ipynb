{
 "cells": [
  {
   "cell_type": "code",
   "execution_count": 13,
   "id": "34a8d562",
   "metadata": {},
   "outputs": [],
   "source": [
    "from collections import defaultdict\n",
    "from queue import deque"
   ]
  },
  {
   "cell_type": "code",
   "execution_count": 14,
   "id": "4d3d5c1b",
   "metadata": {},
   "outputs": [],
   "source": [
    "class Graph():\n",
    "    def __init__(self,directed):\n",
    "        self.graph = defaultdict(list)\n",
    "        self.directed = directed\n",
    "    \n",
    "    def add_edge(self,x,y):\n",
    "        if self.directed:\n",
    "            self.graph[x].append(y)\n",
    "        else:\n",
    "            self.graph[x].append(y)\n",
    "            self.graph[x].append(y)\n",
    "    def dfs(self,vertex):\n",
    "        visited = []\n",
    "        stack = deque()\n",
    "        stack.append(vertex)\n",
    "        \n",
    "        while len(stack)!=0:\n",
    "            vertex = stack.pop()\n",
    "            if vertex in visited:\n",
    "                continue\n",
    "            print(vertex, end='')\n",
    "            visited.append(vertex)\n",
    "            \n",
    "            for neighbour in self.graph[vertex]:\n",
    "                if neighbour not in visited:\n",
    "                    stack.append(neighbour)"
   ]
  },
  {
   "cell_type": "code",
   "execution_count": 15,
   "id": "11eba2b4",
   "metadata": {},
   "outputs": [],
   "source": [
    "tree = Graph(True)"
   ]
  },
  {
   "cell_type": "code",
   "execution_count": 16,
   "id": "a1abce71",
   "metadata": {},
   "outputs": [],
   "source": [
    "tree.add_edge('A','B')\n",
    "tree.add_edge('A','C')\n",
    "tree.add_edge('B','D')\n",
    "tree.add_edge('B','E')\n",
    "tree.add_edge('D','F')"
   ]
  },
  {
   "cell_type": "code",
   "execution_count": 17,
   "id": "b3a0caec",
   "metadata": {},
   "outputs": [
    {
     "data": {
      "text/plain": [
       "defaultdict(list, {'A': ['B', 'C'], 'B': ['D', 'E'], 'D': ['F']})"
      ]
     },
     "execution_count": 17,
     "metadata": {},
     "output_type": "execute_result"
    }
   ],
   "source": [
    "tree.graph"
   ]
  },
  {
   "cell_type": "code",
   "execution_count": 19,
   "id": "257cdccb",
   "metadata": {},
   "outputs": [
    {
     "name": "stdout",
     "output_type": "stream",
     "text": [
      "ACBEDF"
     ]
    }
   ],
   "source": [
    "tree.dfs('A')  ## ekhan theke search shuru hobe"
   ]
  },
  {
   "cell_type": "code",
   "execution_count": null,
   "id": "c88574bb",
   "metadata": {},
   "outputs": [],
   "source": []
  }
 ],
 "metadata": {
  "kernelspec": {
   "display_name": "Python 3",
   "language": "python",
   "name": "python3"
  },
  "language_info": {
   "codemirror_mode": {
    "name": "ipython",
    "version": 3
   },
   "file_extension": ".py",
   "mimetype": "text/x-python",
   "name": "python",
   "nbconvert_exporter": "python",
   "pygments_lexer": "ipython3",
   "version": "3.8.3"
  }
 },
 "nbformat": 4,
 "nbformat_minor": 5
}
