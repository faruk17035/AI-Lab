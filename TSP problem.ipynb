{
 "cells": [
  {
   "cell_type": "code",
   "execution_count": 1,
   "id": "5b8231a6",
   "metadata": {},
   "outputs": [
    {
     "name": "stdout",
     "output_type": "stream",
     "text": [
      "(375.0, [0, 1, 2, 3, 4])\n"
     ]
    }
   ],
   "source": [
    "import tsp\n",
    "matrix = [[0,100,300,100,75],\n",
    "          [100,0,50,75,125],\n",
    "          [300,50,0,100,125],\n",
    "          [100,75,100,0,50],\n",
    "          [75,125,125,50,0]]\n",
    "r = range(len(matrix))\n",
    "\n",
    "shortestpath = {(i,j):matrix[i][j] for i in r for j in r}\n",
    "print(tsp.tsp(r,shortestpath))"
   ]
  },
  {
   "cell_type": "code",
   "execution_count": null,
   "id": "24785c13",
   "metadata": {},
   "outputs": [],
   "source": []
  }
 ],
 "metadata": {
  "kernelspec": {
   "display_name": "Python 3",
   "language": "python",
   "name": "python3"
  },
  "language_info": {
   "codemirror_mode": {
    "name": "ipython",
    "version": 3
   },
   "file_extension": ".py",
   "mimetype": "text/x-python",
   "name": "python",
   "nbconvert_exporter": "python",
   "pygments_lexer": "ipython3",
   "version": "3.8.3"
  }
 },
 "nbformat": 4,
 "nbformat_minor": 5
}
