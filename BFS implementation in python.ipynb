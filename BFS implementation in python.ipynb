{
 "cells": [
  {
   "cell_type": "code",
   "execution_count": 32,
   "id": "3195df00",
   "metadata": {},
   "outputs": [],
   "source": [
    "from collections import defaultdict\n",
    "from queue import Queue"
   ]
  },
  {
   "cell_type": "code",
   "execution_count": 33,
   "id": "795aa087",
   "metadata": {},
   "outputs": [],
   "source": [
    "class Graph():\n",
    "    def __init__(self,directed):\n",
    "        \"Parameterized constructor of class Graph\"\n",
    "        self.graph = defaultdict(list)\n",
    "        self.directed = directed\n",
    "        \n",
    "    def add_edge(self,x,y):\n",
    "        \"Add nodes and edges between nodes\"\n",
    "        if self.directed:\n",
    "            self.graph[x].append(y)\n",
    "        else:\n",
    "            self.graph[x].append(y)\n",
    "            self.graph[x].append(y)\n",
    "    def bfs(self,vertex):\n",
    "        \"Implementation of BFS\"\n",
    "        visited = []\n",
    "        queue = Queue()\n",
    "        queue.put(vertex)\n",
    "        \n",
    "        while not queue.empty():\n",
    "            vertex = queue.get()\n",
    "            if vertex in visited:\n",
    "                continue\n",
    "            print(vertex, end='')\n",
    "            visited.append(vertex)\n",
    "            \n",
    "            for neighbour in self.graph[vertex]:\n",
    "                if neighbour!=None:\n",
    "                    queue.put(neighbour)\n",
    "    "
   ]
  },
  {
   "cell_type": "code",
   "execution_count": 34,
   "id": "c35f8fc0",
   "metadata": {},
   "outputs": [],
   "source": [
    "tree = Graph(True)"
   ]
  },
  {
   "cell_type": "code",
   "execution_count": 35,
   "id": "93758124",
   "metadata": {},
   "outputs": [],
   "source": [
    "tree.add_edge('A','B')\n",
    "tree.add_edge('A','C')\n",
    "tree.add_edge('B','D')\n",
    "tree.add_edge('B','E')\n",
    "tree.add_edge('D','F')"
   ]
  },
  {
   "cell_type": "markdown",
   "id": "24f79b5e",
   "metadata": {},
   "source": [
    "g.add_edge('A','B')\n",
    "g.add_edge('A','C')\n",
    "g.add_edge('A','F')\n",
    "g.add_edge('B','E')\n",
    "g.add_edge('C','D')\n",
    "g.add_edge('F','B')\n",
    "g.add_edge('F','G')\n",
    "g.add_edge('E','F')\n",
    "g.add_edge('E','G')\n",
    "g.add_edge('E','H')\n",
    "g.add_edge('D','A')\n",
    "g.add_edge('D','H')\n",
    "g.add_edge('G',None)\n",
    "g.add_edge('H','G')"
   ]
  },
  {
   "cell_type": "code",
   "execution_count": 36,
   "id": "8c06af06",
   "metadata": {},
   "outputs": [
    {
     "data": {
      "text/plain": [
       "defaultdict(list, {'A': ['B', 'C'], 'B': ['D', 'E'], 'D': ['F']})"
      ]
     },
     "execution_count": 36,
     "metadata": {},
     "output_type": "execute_result"
    }
   ],
   "source": [
    "tree.graph"
   ]
  },
  {
   "cell_type": "code",
   "execution_count": 37,
   "id": "04d1fe10",
   "metadata": {},
   "outputs": [
    {
     "name": "stdout",
     "output_type": "stream",
     "text": [
      "ABCDEF"
     ]
    }
   ],
   "source": [
    "tree.bfs('A') ## ekhane A theke search shuru hobe sesh porjonto"
   ]
  },
  {
   "cell_type": "code",
   "execution_count": null,
   "id": "ede8fd2a",
   "metadata": {},
   "outputs": [],
   "source": []
  }
 ],
 "metadata": {
  "kernelspec": {
   "display_name": "Python 3",
   "language": "python",
   "name": "python3"
  },
  "language_info": {
   "codemirror_mode": {
    "name": "ipython",
    "version": 3
   },
   "file_extension": ".py",
   "mimetype": "text/x-python",
   "name": "python",
   "nbconvert_exporter": "python",
   "pygments_lexer": "ipython3",
   "version": "3.8.3"
  }
 },
 "nbformat": 4,
 "nbformat_minor": 5
}
