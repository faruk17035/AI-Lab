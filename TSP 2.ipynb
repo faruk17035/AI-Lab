{
 "cells": [
  {
   "cell_type": "code",
   "execution_count": 1,
   "id": "71aa5408",
   "metadata": {},
   "outputs": [
    {
     "name": "stdout",
     "output_type": "stream",
     "text": [
      "375\n"
     ]
    }
   ],
   "source": [
    "from sys import maxsize\n",
    "from itertools import permutations\n",
    "V = 5\n",
    "\n",
    "def travellingSalesmanProblem(graph, s):\n",
    "    vertex = []\n",
    "    for i in range(V):\n",
    "        if i != s:\n",
    "            vertex.append(i)\n",
    "\n",
    "    min_path = maxsize\n",
    "    next_permutation=permutations(vertex)\n",
    "    for i in next_permutation:\n",
    "        current_pathweight = 0\n",
    "        k = s\n",
    "        for j in i:\n",
    "            current_pathweight += graph[k][j]\n",
    "            k = j\n",
    "        current_pathweight += graph[k][s]\n",
    "        min_path = min(min_path, current_pathweight)\n",
    "\n",
    "    return min_path\n",
    "\n",
    "\n",
    "if __name__ == \"__main__\":\n",
    "    #graph = [[0, 10, 15, 20], [10, 0, 35, 25],\n",
    "            #[15, 35, 0, 30], [20, 25, 30, 0]]\n",
    "    graph = [[0,100,300,100,75],\n",
    "            [100,0,50,75,125],\n",
    "            [300,50,0,100,125],\n",
    "            [100,75,100,0,50],\n",
    "            [75,125,125,50,0]]\n",
    "    s = 0\n",
    "    print(travellingSalesmanProblem(graph, s))"
   ]
  },
  {
   "cell_type": "code",
   "execution_count": null,
   "id": "fc4abb42",
   "metadata": {},
   "outputs": [],
   "source": []
  }
 ],
 "metadata": {
  "kernelspec": {
   "display_name": "Python 3",
   "language": "python",
   "name": "python3"
  },
  "language_info": {
   "codemirror_mode": {
    "name": "ipython",
    "version": 3
   },
   "file_extension": ".py",
   "mimetype": "text/x-python",
   "name": "python",
   "nbconvert_exporter": "python",
   "pygments_lexer": "ipython3",
   "version": "3.8.3"
  }
 },
 "nbformat": 4,
 "nbformat_minor": 5
}
